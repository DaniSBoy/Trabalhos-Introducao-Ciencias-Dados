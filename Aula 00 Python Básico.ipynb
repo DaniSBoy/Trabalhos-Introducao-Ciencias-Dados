{
  "cells": [
    {
      "cell_type": "markdown",
      "metadata": {
        "id": "view-in-github",
        "colab_type": "text"
      },
      "source": [
        "<a href=\"https://colab.research.google.com/github/DaniSBoy/Trabalhos-Introducao-Ciencias-De-Dados/blob/main/Aula_00_Python_B%C3%A1sico.ipynb\" target=\"_parent\"><img src=\"https://colab.research.google.com/assets/colab-badge.svg\" alt=\"Open In Colab\"/></a>"
      ]
    },
    {
      "cell_type": "markdown",
      "metadata": {
        "id": "rzo9TpXUpFYo"
      },
      "source": [
        "# Antes de começar\n",
        "\n",
        "Neste curso, vamos usar o Python 3 e algumas bibliotecas científicas. Todas as aulas serão disponibilizadas no formato `.html`, para os slides, e `.ipynb`, para os notebooks Jupyter. Para simplificar, faça a instalação da distribuição [Anaconda](https://www.anaconda.com/download/) no seu computador, que contém tudo que precisamos."
      ]
    },
    {
      "cell_type": "code",
      "execution_count": null,
      "metadata": {
        "id": "cG5KyVgRpFY1",
        "outputId": "356be29d-be8b-4bdb-d93c-91495bc2ed44"
      },
      "outputs": [
        {
          "name": "stdout",
          "output_type": "stream",
          "text": [
            "Ola\n"
          ]
        }
      ],
      "source": [
        "print(\"Ola\")"
      ]
    },
    {
      "cell_type": "markdown",
      "metadata": {
        "id": "fzgdOfxopFY4"
      },
      "source": [
        "Aprender Jupyter é muito simples. Basta a leitura rápida de um tutorial, como [este](https://www.datacamp.com/community/tutorials/tutorial-jupyter-notebook), [este](https://www.dataquest.io/blog/jupyter-notebook-tutorial/), ou [este](http://maxmelnick.com/2016/04/19/python-beginner-tips-and-tricks.html). Os atalhos para comandos são muito úteis!"
      ]
    },
    {
      "cell_type": "markdown",
      "metadata": {
        "id": "ZpyhZlqgpFY6"
      },
      "source": [
        "# Python Básico\n",
        "\n",
        "Python tem uma descrição bem Zen de seus princípios de projeto, que você pode obter a partir do comando abaixo."
      ]
    },
    {
      "cell_type": "code",
      "execution_count": null,
      "metadata": {
        "id": "fpeOXwwVpFY8",
        "outputId": "d5d055df-3042-4778-9519-e3017e77f600"
      },
      "outputs": [
        {
          "name": "stdout",
          "output_type": "stream",
          "text": [
            "The Zen of Python, by Tim Peters\n",
            "\n",
            "Beautiful is better than ugly.\n",
            "Explicit is better than implicit.\n",
            "Simple is better than complex.\n",
            "Complex is better than complicated.\n",
            "Flat is better than nested.\n",
            "Sparse is better than dense.\n",
            "Readability counts.\n",
            "Special cases aren't special enough to break the rules.\n",
            "Although practicality beats purity.\n",
            "Errors should never pass silently.\n",
            "Unless explicitly silenced.\n",
            "In the face of ambiguity, refuse the temptation to guess.\n",
            "There should be one-- and preferably only one --obvious way to do it.\n",
            "Although that way may not be obvious at first unless you're Dutch.\n",
            "Now is better than never.\n",
            "Although never is often better than *right* now.\n",
            "If the implementation is hard to explain, it's a bad idea.\n",
            "If the implementation is easy to explain, it may be a good idea.\n",
            "Namespaces are one honking great idea -- let's do more of those!\n"
          ]
        }
      ],
      "source": [
        "import this"
      ]
    },
    {
      "cell_type": "markdown",
      "metadata": {
        "id": "QEhw1lJwpFZA"
      },
      "source": [
        "Neste curso trabalharemos com Python 3. Se você já sabe programar em Python , pode pular esta parte. No entanto, se conhece Python 2 e não Python 3, sugiro se familiarizar com as diferenças da versão 3 em relação à versão 2: https://docs.python.org/3.0/whatsnew/3.0.html\n",
        "\n",
        "Para algumas dicas e atalhos no Jupyter, confira a URL abaixo:\n",
        "https://www.dataquest.io/blog/jupyter-notebook-tips-tricks-shortcuts/"
      ]
    },
    {
      "cell_type": "markdown",
      "metadata": {
        "id": "SeYfFl_7pFZD"
      },
      "source": [
        "## Indentação\n",
        "Muitas linguagens usam chaves para delimitar blocos de código. Python usa identação."
      ]
    },
    {
      "cell_type": "code",
      "execution_count": null,
      "metadata": {
        "id": "C-hJB80MpFZE",
        "outputId": "f3576481-4ebc-4114-8b01-84ef06f17bbf"
      },
      "outputs": [
        {
          "name": "stdout",
          "output_type": "stream",
          "text": [
            "1\n",
            "1\n",
            "2\n",
            "2\n",
            "3\n",
            "3\n",
            "4\n",
            "4\n",
            "5\n",
            "5\n",
            "6\n",
            "1\n",
            "2\n",
            "1\n",
            "3\n",
            "2\n",
            "4\n",
            "3\n",
            "5\n",
            "4\n",
            "6\n",
            "5\n",
            "7\n",
            "2\n",
            "3\n",
            "1\n",
            "4\n",
            "2\n",
            "5\n",
            "3\n",
            "6\n",
            "4\n",
            "7\n",
            "5\n",
            "8\n",
            "3\n",
            "4\n",
            "1\n",
            "5\n",
            "2\n",
            "6\n",
            "3\n",
            "7\n",
            "4\n",
            "8\n",
            "5\n",
            "9\n",
            "4\n",
            "5\n",
            "1\n",
            "6\n",
            "2\n",
            "7\n",
            "3\n",
            "8\n",
            "4\n",
            "9\n",
            "5\n",
            "10\n",
            "5\n",
            "terminou o loop\n"
          ]
        }
      ],
      "source": [
        "for i in [1, 2, 3, 4, 5]:               \n",
        "    print(i)                             # primeira linha do bloco \"for i\"\n",
        "    for j in [1, 2, 3, 4, 5]:            # primeira linha do bloco \"for j\"\n",
        "        print(j)                         # última linha do bloco \"for j\"\n",
        "        print(i + j)\n",
        "    print(i)                             # última linha do bloco \"for i\"\n",
        "print(\"terminou o loop\")"
      ]
    },
    {
      "cell_type": "markdown",
      "metadata": {
        "id": "MWQKenI0pFZH"
      },
      "source": [
        "Isso torna o código Python muito legível, mas também significa que você precisa ter muito cuidado com sua formatação. "
      ]
    },
    {
      "cell_type": "markdown",
      "metadata": {
        "id": "OMz0H6lOpFZI"
      },
      "source": [
        "O espaço em branco é ignorado dentro de parênteses e colchetes, o que pode ser útil para cálculos longos:"
      ]
    },
    {
      "cell_type": "code",
      "execution_count": null,
      "metadata": {
        "id": "Xeu4_HcIpFZJ"
      },
      "outputs": [],
      "source": [
        "long_winded_computation = (1 + 2 + 3 + 4 + 5 + 6 + 7 + 8 + 9 + 10 + 11 + 12 +\n",
        "13 + 14 + 15 + 16 + 17 + 18 + 19 + 20)"
      ]
    },
    {
      "cell_type": "markdown",
      "metadata": {
        "id": "CBpkURW-pFZK"
      },
      "source": [
        "e para tornar o código fácil de ler:"
      ]
    },
    {
      "cell_type": "code",
      "execution_count": null,
      "metadata": {
        "id": "M1lGwX-TpFZL"
      },
      "outputs": [],
      "source": [
        "list_of_lists = [[1, 2, 3], [4, 5, 6], [7, 8, 9]]\n",
        "easier_to_read_list_of_lists = [ [1, 2, 3],\n",
        "                                 [4, 5, 6],\n",
        "                                 [7, 8, 9] ]"
      ]
    },
    {
      "cell_type": "markdown",
      "metadata": {
        "id": "gMitXD9JpFZM"
      },
      "source": [
        "Você também pode usar uma barra invertida para indicar que uma declaração continua na próxima linha, embora raramente façamos isso:"
      ]
    },
    {
      "cell_type": "code",
      "execution_count": null,
      "metadata": {
        "id": "WtiRahk2pFZN"
      },
      "outputs": [],
      "source": [
        "two_plus_three = 2 + \\\n",
        "3"
      ]
    },
    {
      "cell_type": "markdown",
      "metadata": {
        "id": "Zlnt3zE0pFZO"
      },
      "source": [
        "Uma conseqüência da formatação de espaços em branco é que pode ser difícil copiar e colar código no shell do Python. Por exemplo, se você tentar colar o código:"
      ]
    },
    {
      "cell_type": "code",
      "execution_count": null,
      "metadata": {
        "id": "-a8BRUEjpFZO",
        "outputId": "3c88e435-bcee-41b2-f75e-c8f650fb8814"
      },
      "outputs": [
        {
          "name": "stdout",
          "output_type": "stream",
          "text": [
            "1\n",
            "2\n",
            "3\n",
            "4\n",
            "5\n"
          ]
        }
      ],
      "source": [
        "for i in [1, 2, 3, 4, 5]:\n",
        "    \n",
        "    # notice the blank line\n",
        "    print(i)"
      ]
    },
    {
      "cell_type": "markdown",
      "metadata": {
        "id": "BdMVzdO7pFZP"
      },
      "source": [
        "no shell tradicional do Python, você receberá um erro do tipo:\n",
        "\n",
        "`IndentationError: expected an indented block`\n",
        "\n",
        "porque o interpretador pensa que a linha em branco sinaliza o fim do bloco do `for`."
      ]
    },
    {
      "cell_type": "markdown",
      "metadata": {
        "id": "a9hsga4fpFZQ"
      },
      "source": [
        "## Módulos\n",
        "\n",
        "Certos recursos do Python não são carregados por padrão. Estes incluem os recursos padrão da linguagem e também recursos implementados por terceiros que você fez o download. Para usar esses recursos, você precisa importar os módulos que os contêm.\n",
        "\n",
        "Uma abordagem é simplesmente importar o próprio módulo:"
      ]
    },
    {
      "cell_type": "code",
      "execution_count": null,
      "metadata": {
        "id": "q-GdL1PIpFZR",
        "outputId": "8b017eae-f852-4b14-980b-962c1a5b51c6"
      },
      "outputs": [
        {
          "name": "stdout",
          "output_type": "stream",
          "text": [
            "1253\n"
          ]
        }
      ],
      "source": [
        "import re\n",
        "my_regex = re.compile(\"[0-9]+\", re.I)\n",
        "\n",
        "result = my_regex.search(\"Distância percorrida: 1253 metros.\")\n",
        "print(result.group(0))"
      ]
    },
    {
      "cell_type": "markdown",
      "metadata": {
        "id": "EaijKU9jpFZS"
      },
      "source": [
        "Aqui `re` é o módulo que contém funções e constantes para trabalhar com expressões regulares. Após este tipo de importação, você pode acessar essas funções prefixando-as com `re.` .\n",
        "\n",
        "Se você já tem um `re` diferente em seu código, você pode usar um alias:"
      ]
    },
    {
      "cell_type": "code",
      "execution_count": null,
      "metadata": {
        "id": "iREGvhu3pFZT"
      },
      "outputs": [],
      "source": [
        "import re as regex\n",
        "my_regex = regex.compile(\"[0-9]+\", regex.I)"
      ]
    },
    {
      "cell_type": "markdown",
      "metadata": {
        "id": "rnVNdGm5pFZU"
      },
      "source": [
        "Você também pode fazer isso se o seu módulo tiver um nome difícil ou se você for usar ele muito. Por exemplo, para o módulo de visualização de dados `matplotlib`, a convenção padrão é:"
      ]
    },
    {
      "cell_type": "code",
      "execution_count": null,
      "metadata": {
        "id": "5ANrDR8JpFZV"
      },
      "outputs": [],
      "source": [
        "import matplotlib.pyplot as plt"
      ]
    },
    {
      "cell_type": "markdown",
      "metadata": {
        "id": "C3ntaNhDpFZW"
      },
      "source": [
        "Nesse exemplo usamos as estruturas Defaultdict que se assemelha ao dicionário normal com a diferença que ele nunca lança um KeyError, em vez disso ele lança um valor padrão definido no construtor, no exemplo usamos o int\n",
        "\n",
        "Se você precisar de alguns recursos específicos de um módulo, você pode importá-los explicitamente e usá-los sem qualificação:"
      ]
    },
    {
      "cell_type": "code",
      "execution_count": null,
      "metadata": {
        "id": "pTtlsArPpFZW"
      },
      "outputs": [],
      "source": [
        "from collections import defaultdict, Counter\n",
        "lookup = defaultdict(int)\n",
        "my_counter = Counter()"
      ]
    },
    {
      "cell_type": "markdown",
      "metadata": {
        "id": "_vZQoNkSpFZX"
      },
      "source": [
        "Se você fosse uma pessoa ruim, você poderia importar todo o conteúdo de um módulo para o seu namespace, o que pode inadvertidamente substituir as variáveis que você já definiu:"
      ]
    },
    {
      "cell_type": "code",
      "execution_count": null,
      "metadata": {
        "id": "wEmsnVHBpFZY",
        "outputId": "9bc81b13-05e6-430e-e30d-f0d0d5e30f64"
      },
      "outputs": [
        {
          "name": "stdout",
          "output_type": "stream",
          "text": [
            "<function search at 0x0000025F8C8AF378>\n"
          ]
        }
      ],
      "source": [
        "search = 1\n",
        "from re import * #re tem uma função de nome 'search'\n",
        "print(search)"
      ]
    },
    {
      "cell_type": "markdown",
      "metadata": {
        "id": "oWpsJD7spFZZ"
      },
      "source": [
        "Como você não é uma pessoa ruim, você nunca fará isso. :)"
      ]
    },
    {
      "cell_type": "markdown",
      "metadata": {
        "id": "daGRoAMppFZa"
      },
      "source": [
        "## Aritmética\n",
        "\n",
        "Python 2 fazia divisões inteiras por padrão, então `5/2` resultava em `2`. Isso gerava diversos problemas e, para consertar isso, tínhamos que inserir a linha `from __future__ import division` no início dos nossos códigos. No Python 3, não precisamos nos preocupar mais com isso. :) "
      ]
    },
    {
      "cell_type": "code",
      "execution_count": null,
      "metadata": {
        "id": "bO_BZ9XLpFZa",
        "outputId": "817b50a4-cda6-4894-887c-9e712b1acbba"
      },
      "outputs": [
        {
          "name": "stdout",
          "output_type": "stream",
          "text": [
            "2.5\n"
          ]
        }
      ],
      "source": [
        "a = 5/2\n",
        "print(a)"
      ]
    },
    {
      "cell_type": "markdown",
      "metadata": {
        "id": "VJORUfcrpFZb"
      },
      "source": [
        "## Funções\n",
        "\n",
        "Uma função é uma regra para tomar zero ou mais entradas e retornar uma saída correspondente. Em Python, normalmente definimos funções usando `def`:"
      ]
    },
    {
      "cell_type": "code",
      "execution_count": null,
      "metadata": {
        "id": "i7Hvx_8upFZc"
      },
      "outputs": [],
      "source": [
        "def double(x):\n",
        "    \"\"\"aqui você coloca um texto opcional\n",
        "    que explica o que a sua função faz\n",
        "    neste caso, essa é uma função que duplica o argumento\"\"\"\n",
        "    return x * 2"
      ]
    },
    {
      "cell_type": "markdown",
      "metadata": {
        "id": "tGVuB_RrpFZd"
      },
      "source": [
        "As funções de Python são de *primeira classe*, o que significa que podemos atribuí-las a variáveis e passá-las para funções como qualquer outro argumento:"
      ]
    },
    {
      "cell_type": "code",
      "execution_count": null,
      "metadata": {
        "id": "AVLMFFu6pFZd",
        "outputId": "954dea23-77ec-4f08-c947-885127f83706"
      },
      "outputs": [
        {
          "name": "stdout",
          "output_type": "stream",
          "text": [
            "2\n"
          ]
        }
      ],
      "source": [
        "def apply_to_one(f):\n",
        "    \"\"\"chama a função f passando 1 como argumento\"\"\"\n",
        "    return f(1)\n",
        "\n",
        "my_double = double #função double definida anteriormente\n",
        "x = apply_to_one(my_double) #passa a função como parâmetro\n",
        "print(x)"
      ]
    },
    {
      "cell_type": "markdown",
      "metadata": {
        "id": "b6WxfgrypFZe"
      },
      "source": [
        "Também é fácil criar funções anônimas curtas, ou `lambdas`:"
      ]
    },
    {
      "cell_type": "code",
      "execution_count": null,
      "metadata": {
        "id": "IzqpWGYlpFZf",
        "outputId": "ae75b371-8d1d-4db1-e9e3-33bd19bed16d"
      },
      "outputs": [
        {
          "name": "stdout",
          "output_type": "stream",
          "text": [
            "10\n"
          ]
        }
      ],
      "source": [
        "y = apply_to_one(lambda x: x + 9)\n",
        "print(y)"
      ]
    },
    {
      "cell_type": "markdown",
      "metadata": {
        "id": "6K6QfQFApFZf"
      },
      "source": [
        "Você pode atribuir `lambdas` às variáveis, embora a maioria das pessoas diga que você deveria usar `def` em vez disso:"
      ]
    },
    {
      "cell_type": "code",
      "execution_count": null,
      "metadata": {
        "id": "ED7B8fpIpFZg",
        "outputId": "42edbb37-6262-482c-c4e6-d94854e4fb19"
      },
      "outputs": [
        {
          "name": "stdout",
          "output_type": "stream",
          "text": [
            "6\n",
            "6\n"
          ]
        }
      ],
      "source": [
        "another_double = lambda x: 2 * x #não faça isso! :(\n",
        "y = another_double(3)\n",
        "print(y)\n",
        "\n",
        "def another_double(x): return 2 * x #faça isso! :)\n",
        "y = another_double(3)\n",
        "print(y)"
      ]
    },
    {
      "cell_type": "markdown",
      "metadata": {
        "id": "UixZLVxfpFZh"
      },
      "source": [
        "É possível dar valores padrão para os parâmetros de função, que só precisam ser especificados quando você deseja um valor diferente do padrão:"
      ]
    },
    {
      "cell_type": "code",
      "execution_count": null,
      "metadata": {
        "id": "2kulRr7BpFZh",
        "outputId": "6915f6c7-e610-4718-98a0-9db8e76aba5c"
      },
      "outputs": [
        {
          "name": "stdout",
          "output_type": "stream",
          "text": [
            "Nada a dizer?\n",
            "olá!\n"
          ]
        }
      ],
      "source": [
        "def my_print(message=\"Nada a dizer?\"):\n",
        "    print(message)\n",
        "    \n",
        "my_print()\n",
        "my_print(\"olá!\")"
      ]
    },
    {
      "cell_type": "markdown",
      "metadata": {
        "id": "2smtxDGmpFZi"
      },
      "source": [
        "Algumas vezes teremos que especificar argumentos pelo nome:"
      ]
    },
    {
      "cell_type": "code",
      "execution_count": null,
      "metadata": {
        "id": "RKTGQHc1pFZi",
        "outputId": "79aeddb8-efb0-4799-b1a7-78315d14be3a"
      },
      "outputs": [
        {
          "name": "stdout",
          "output_type": "stream",
          "text": [
            "5\n",
            "-5\n",
            "-5\n"
          ]
        }
      ],
      "source": [
        "def subtract(a=0, b=0):\n",
        "    return a - b\n",
        "\n",
        "print(subtract(10, 5))\n",
        "print(subtract(0, 5)) \n",
        "print(subtract(b=5))\n"
      ]
    },
    {
      "cell_type": "code",
      "execution_count": null,
      "metadata": {
        "id": "KAThvMMTpFZj",
        "outputId": "c8803725-2dc5-4c60-d714-7af21a3d1da7"
      },
      "outputs": [
        {
          "data": {
            "text/plain": [
              "2"
            ]
          },
          "execution_count": 70,
          "metadata": {},
          "output_type": "execute_result"
        }
      ],
      "source": [
        "subtract(2)"
      ]
    },
    {
      "cell_type": "markdown",
      "metadata": {
        "id": "Rguwy7_ypFZk"
      },
      "source": [
        "Vamos criar muitas, muitas funções."
      ]
    },
    {
      "cell_type": "markdown",
      "metadata": {
        "id": "RauxqGAQpFZk"
      },
      "source": [
        "## Strings\n",
        "\n",
        "Strings podem ser delimitadas por aspas simples ou duplas, mas as aspas têm que ser do mesmo tipo para uma dada string:"
      ]
    },
    {
      "cell_type": "code",
      "execution_count": null,
      "metadata": {
        "id": "NLqpnJ3upFZk"
      },
      "outputs": [],
      "source": [
        "single_quoted_string = 'data science'\n",
        "double_quoted_string = \"data science\""
      ]
    },
    {
      "cell_type": "markdown",
      "metadata": {
        "id": "eRE73RKMpFZl"
      },
      "source": [
        "Python usa barras invertidas (`\\`) para codificar caracteres especiais. Por exemplo:"
      ]
    },
    {
      "cell_type": "code",
      "execution_count": null,
      "metadata": {
        "id": "-_2mX11npFZl",
        "outputId": "fb3e7108-2d3d-475b-f925-50b6de43f7f1"
      },
      "outputs": [
        {
          "name": "stdout",
          "output_type": "stream",
          "text": [
            "\t 1\n"
          ]
        }
      ],
      "source": [
        "tab_string = \"\\t\" #caractere tab\n",
        "print(tab_string, len(tab_string))"
      ]
    },
    {
      "cell_type": "markdown",
      "metadata": {
        "id": "8fgUakMEpFZl"
      },
      "source": [
        "Se você quer barras invertidas como barras invertidas (para indicar pastas ou em expressões regulares), você pode criar strings cruas usando `r\"\"`:"
      ]
    },
    {
      "cell_type": "code",
      "execution_count": null,
      "metadata": {
        "id": "eRifJRrOpFZm",
        "outputId": "4f601100-9e58-43d2-da35-acd912a7c21b"
      },
      "outputs": [
        {
          "name": "stdout",
          "output_type": "stream",
          "text": [
            "\\t 2\n"
          ]
        }
      ],
      "source": [
        "not_tab_string = r\"\\t\"\n",
        "len(not_tab_string)\n",
        "print(not_tab_string, len(not_tab_string))"
      ]
    },
    {
      "cell_type": "markdown",
      "metadata": {
        "id": "w4iwcAOgpFZm"
      },
      "source": [
        "você pode criar strings em múltiplas linhas usando aspas duplas triplas (`\"\"\"`):"
      ]
    },
    {
      "cell_type": "code",
      "execution_count": null,
      "metadata": {
        "id": "xUP87YMIpFZm",
        "outputId": "a08cb783-7495-46a0-ae38-5d3c3a55e1d2"
      },
      "outputs": [
        {
          "name": "stdout",
          "output_type": "stream",
          "text": [
            "This is the first line.\n",
            "and this is the second line\n",
            "and this is the third line\n"
          ]
        }
      ],
      "source": [
        "multi_line_string = \"\"\"This is the first line.\n",
        "and this is the second line\n",
        "and this is the third line\"\"\"\n",
        "print(multi_line_string)"
      ]
    },
    {
      "cell_type": "markdown",
      "source": [
        "A função format é uma forma fácil de lidar com strings"
      ],
      "metadata": {
        "id": "Y7Vq7sIsWI2K"
      }
    },
    {
      "cell_type": "code",
      "source": [
        "print('{1} {2} {0}'.format('ordem', 'Controlando', 'a')) # Os números indicam a ordem em que serão utilizadas as variáveis\n",
        "\n",
        "print('{a}, {b}, {b}'.format(a='Gang', b='Pussy'))    # Aqui usamos variáveis"
      ],
      "metadata": {
        "colab": {
          "base_uri": "https://localhost:8080/"
        },
        "id": "CPqXAXeYWIKc",
        "outputId": "cd4a49d7-3c88-43d7-d7c3-ddda3e92adcf"
      },
      "execution_count": null,
      "outputs": [
        {
          "output_type": "stream",
          "name": "stdout",
          "text": [
            "Controlando a ordem\n",
            "Gang, Pussy, Pussy\n"
          ]
        }
      ]
    },
    {
      "cell_type": "markdown",
      "source": [
        "**Formatando Números**\n",
        "\n",
        "Para converter strings delimitando o números de caracteres usados, formatamos da forma %x.yf onde x é o mínimo de caracteres e y o número de casas decimais"
      ],
      "metadata": {
        "id": "eUWXbSHnkZfS"
      }
    },
    {
      "cell_type": "code",
      "source": [
        "print('Teste : %+10.4f' % 45.67)"
      ],
      "metadata": {
        "colab": {
          "base_uri": "https://localhost:8080/"
        },
        "id": "Ubwa8jY0kgHV",
        "outputId": "8a897d90-4924-4bd3-cee3-f76978d2e0b0"
      },
      "execution_count": null,
      "outputs": [
        {
          "output_type": "stream",
          "name": "stdout",
          "text": [
            "Teste :   +45.6700\n"
          ]
        }
      ]
    },
    {
      "cell_type": "markdown",
      "source": [
        "**Alinhamento**\n",
        "\n",
        "Usando o método format temos variadas formas de ocupar e alinhar strings, perceba a diferença ao usar no início 0 e depois um, pois isso referencia as variáveis do método"
      ],
      "metadata": {
        "id": "YoOiskp1mknX"
      }
    },
    {
      "cell_type": "code",
      "source": [
        "print('{0:15} | {1:5}'.format('Daniel', 23))\n",
        "print('{0:15} | {1:5}'.format('Maria Julieta', 24))\n",
        "print('{0:15} | {1:5}'.format('Eduardo', 56))\n",
        "print('{0:15} | {1:5}'.format('Daniel', '67'))"
      ],
      "metadata": {
        "colab": {
          "base_uri": "https://localhost:8080/"
        },
        "id": "8uCJcbHEmwj4",
        "outputId": "32a1b4a0-6c9b-4efb-e14e-280d4bea0a07"
      },
      "execution_count": null,
      "outputs": [
        {
          "output_type": "stream",
          "name": "stdout",
          "text": [
            "Daniel          |    23\n",
            "Maria Julieta   |    24\n",
            "Eduardo         |    56\n",
            "Daniel          | 67   \n"
          ]
        }
      ]
    },
    {
      "cell_type": "markdown",
      "source": [
        "Podemos ver que por padrão Strings são alinhadas à esquerda e números à direita, mas também podemos controlar isso"
      ],
      "metadata": {
        "id": "bJlWge2hnqV4"
      }
    },
    {
      "cell_type": "code",
      "source": [
        "print('{0:<10} | {1:^10} | {2:>10}'.format('Esquerda', 'Centro', 'Direita'))"
      ],
      "metadata": {
        "colab": {
          "base_uri": "https://localhost:8080/"
        },
        "id": "iJI0iihAnzOb",
        "outputId": "32c06e1d-053a-4f46-91c0-1c710388cb71"
      },
      "execution_count": null,
      "outputs": [
        {
          "output_type": "stream",
          "name": "stdout",
          "text": [
            "Esquerda   |   Centro   |    Direita\n"
          ]
        }
      ]
    },
    {
      "cell_type": "markdown",
      "source": [
        "Podemos inclusiver controlar como preenchemos os caracteres restantes"
      ],
      "metadata": {
        "id": "lto0e6IJe53V"
      }
    },
    {
      "cell_type": "code",
      "source": [
        "print('{0:=<10} | {1:-^10} | {2:.>10}'.format('11', '22', '33'))"
      ],
      "metadata": {
        "colab": {
          "base_uri": "https://localhost:8080/"
        },
        "id": "5rS4_M81e5RY",
        "outputId": "f9ed8424-6262-4b05-dfc0-becd489cdcaa"
      },
      "execution_count": null,
      "outputs": [
        {
          "output_type": "stream",
          "name": "stdout",
          "text": [
            "11======== | ----22---- | ........33\n"
          ]
        }
      ]
    },
    {
      "cell_type": "markdown",
      "source": [
        "Podemos usar para números também"
      ],
      "metadata": {
        "id": "nFRVHwSbvuXN"
      }
    },
    {
      "cell_type": "code",
      "source": [
        "print('{0:10.2f}'.format(12.5678))"
      ],
      "metadata": {
        "colab": {
          "base_uri": "https://localhost:8080/"
        },
        "id": "RoW-xncSvxdo",
        "outputId": "4917a909-ca65-4b75-e975-ab6fd34636f1"
      },
      "execution_count": null,
      "outputs": [
        {
          "output_type": "stream",
          "name": "stdout",
          "text": [
            "     12.57\n"
          ]
        }
      ]
    },
    {
      "cell_type": "markdown",
      "source": [
        "Podemos controlar a distância do sinal ao primeiro dígito"
      ],
      "metadata": {
        "id": "lBC9DpBKwwN4"
      }
    },
    {
      "cell_type": "code",
      "source": [
        "print('{0:=5d}'.format(-42))\n",
        "print('{0:=+5d}'.format(56))\n",
        "print('{0:+5d}'.format(56))"
      ],
      "metadata": {
        "colab": {
          "base_uri": "https://localhost:8080/"
        },
        "id": "9e5rjAAIwmST",
        "outputId": "2f8c314f-8216-45bd-b279-84c9ba12b994"
      },
      "execution_count": null,
      "outputs": [
        {
          "output_type": "stream",
          "name": "stdout",
          "text": [
            "-  42\n",
            "+  56\n",
            "  +56\n"
          ]
        }
      ]
    },
    {
      "cell_type": "markdown",
      "source": [
        "Podemos ainda usar F-strings que como são processadas em tempo de execução nos permitem ter algumas dinâmicas a mais"
      ],
      "metadata": {
        "id": "EJ42tAUVAdKr"
      }
    },
    {
      "cell_type": "code",
      "source": [
        "nome = 'Daniel'\n",
        "print(f'Meu nome é {nome.upper()}')"
      ],
      "metadata": {
        "colab": {
          "base_uri": "https://localhost:8080/"
        },
        "id": "tJf7xdwLAn7Q",
        "outputId": "e33e7da5-49be-41bf-8bc2-d2cc929a5353"
      },
      "execution_count": null,
      "outputs": [
        {
          "output_type": "stream",
          "name": "stdout",
          "text": [
            "Meu nome é DANIEL\n"
          ]
        }
      ]
    },
    {
      "cell_type": "markdown",
      "source": [
        "Usando f-strings com números"
      ],
      "metadata": {
        "id": "k_tVvDJZLm3Z"
      }
    },
    {
      "cell_type": "code",
      "source": [
        "print('Tabuada de 2:')\n",
        "for i in range(11):\n",
        "    print(f'2 x {i:2} = {2 * i:2}')"
      ],
      "metadata": {
        "colab": {
          "base_uri": "https://localhost:8080/"
        },
        "id": "EHY5RBfkLqYt",
        "outputId": "e68fc551-3e28-45d7-b409-5e29ab691361"
      },
      "execution_count": null,
      "outputs": [
        {
          "output_type": "stream",
          "name": "stdout",
          "text": [
            "Tabuada de 2:\n",
            "2 x  0 =  0\n",
            "2 x  1 =  2\n",
            "2 x  2 =  4\n",
            "2 x  3 =  6\n",
            "2 x  4 =  8\n",
            "2 x  5 = 10\n",
            "2 x  6 = 12\n",
            "2 x  7 = 14\n",
            "2 x  8 = 16\n",
            "2 x  9 = 18\n",
            "2 x 10 = 20\n"
          ]
        }
      ]
    },
    {
      "cell_type": "markdown",
      "metadata": {
        "id": "YAz7p1YepFZn"
      },
      "source": [
        "## Exceções \n",
        "\n",
        "Quando alguma coisa errada ou estranha acontece, Python lança uma exceção (*exception*). Se não forem tratadas, essas vão fazer com o que o seu programa seja interrompiado (*crash*). Você pode lidar com elas usando os comandos `try` e `except`:"
      ]
    },
    {
      "cell_type": "code",
      "execution_count": null,
      "metadata": {
        "id": "-KOWkx-CpFZn",
        "outputId": "d588350d-1206-47ae-de3c-008734b6377d"
      },
      "outputs": [
        {
          "name": "stdout",
          "output_type": "stream",
          "text": [
            "cannot divide by zero\n"
          ]
        }
      ],
      "source": [
        "try:\n",
        "    print(0 / 0)\n",
        "except:\n",
        "    print(\"cannot divide by zero\")\n",
        "\n"
      ]
    },
    {
      "cell_type": "markdown",
      "metadata": {
        "id": "WVlNa4owpFZo"
      },
      "source": [
        "Embora em muitas linguagens as exceções sejam consideradas ruins, em Python não há vergonha de usá-las para tornar o seu código mais limpo, e ocasionalmente o faremos."
      ]
    },
    {
      "cell_type": "markdown",
      "metadata": {
        "id": "5NzVK0eGpFZo"
      },
      "source": [
        "## Listas\n",
        "\n",
        "Provavelmente, a estrutura de dados mais fundamental em Python é a lista, ou `list`. Uma lista é simplesmente uma coleção ordenada. É semelhante ao que em outros idiomas pode ser chamado de vetor, mas com alguma funcionalidade adicional."
      ]
    },
    {
      "cell_type": "code",
      "execution_count": null,
      "metadata": {
        "id": "KqjS97LHpFZp",
        "outputId": "42de214f-5287-4db2-b77b-652815342e31"
      },
      "outputs": [
        {
          "name": "stdout",
          "output_type": "stream",
          "text": [
            "[[1, 2, 3], ['string', 0.1, True], []]\n",
            "3\n",
            "6\n"
          ]
        }
      ],
      "source": [
        "integer_list = [1, 2, 3]\n",
        "heterogeneous_list = [\"string\", 0.1, True]\n",
        "list_of_lists = [ integer_list, heterogeneous_list, [] ]\n",
        "print(list_of_lists)\n",
        "\n",
        "print(len(integer_list))\n",
        "print(sum(integer_list))"
      ]
    },
    {
      "cell_type": "code",
      "execution_count": null,
      "metadata": {
        "id": "1uYk6-wHpFZq",
        "outputId": "11b5d38d-533f-45fe-de63-8b8297bc0ad3"
      },
      "outputs": [
        {
          "name": "stdout",
          "output_type": "stream",
          "text": [
            "asdasd\n"
          ]
        }
      ],
      "source": [
        "l = [\"asd\", \"kdj\"]\n",
        "print(\"asd\" + \"asd\")"
      ]
    },
    {
      "cell_type": "code",
      "execution_count": null,
      "metadata": {
        "id": "YtbI41XEpFZq",
        "outputId": "e3fcba90-e565-4614-b919-358f44a46198"
      },
      "outputs": [
        {
          "name": "stdout",
          "output_type": "stream",
          "text": [
            "4\n"
          ]
        }
      ],
      "source": [
        "A = [1, 2, 3, 4, 5]\n",
        "*_, x, _ = A\n",
        "print(x)"
      ]
    },
    {
      "cell_type": "code",
      "source": [
        "lista = list(range(10))\n",
        "\n",
        "l2 = [x for x in [1, 3, 4, 7] if x % 2 == 1]\n",
        "\n",
        "lista.extend(l2)\n",
        "\n",
        "print(lista)"
      ],
      "metadata": {
        "id": "3DWhlXCZ2R5I"
      },
      "execution_count": null,
      "outputs": []
    },
    {
      "cell_type": "code",
      "source": [
        "_, z, *_ = lista\n",
        "print(z)\n",
        "\n",
        "*_, z, _ = lista\n",
        "print(z)\n",
        "\n",
        "lista4 = [5, 6, 7]\n",
        "\n",
        "_, t, _ = lista4\n",
        "print(t)\n",
        "\n",
        "*_, r = lista4\n",
        "print(r)"
      ],
      "metadata": {
        "id": "YP79aO772NJJ"
      },
      "execution_count": null,
      "outputs": []
    },
    {
      "cell_type": "markdown",
      "metadata": {
        "id": "eMSrCaY4pFZr"
      },
      "source": [
        "Você pode acessar ou alterar o n-ésimo elemento de uma lista usando colchetes:"
      ]
    },
    {
      "cell_type": "code",
      "execution_count": null,
      "metadata": {
        "id": "9pTRg-AGpFZr",
        "outputId": "89cf9944-92ce-4778-a5ba-f6c494ef91a5",
        "colab": {
          "base_uri": "https://localhost:8080/"
        }
      },
      "outputs": [
        {
          "output_type": "stream",
          "name": "stdout",
          "text": [
            "x:  [0, 1, 2, 3, 4, 5, 6, 7, 8, 9]\n",
            "0 1 9 8 -1\n"
          ]
        }
      ],
      "source": [
        "x = list(range(10))\n",
        "print(\"x: \", x)\n",
        "\n",
        "zero = x[0]\n",
        "one = x[1]\n",
        "nine = x[-1] #o índice -1 refere-se ao último elemento da lista\n",
        "eight = x[-2] #o índice -2 refere-se ao penúltimo elemento da lista\n",
        "x[0] = -1\n",
        "print(zero, one, nine, eight, x[0])"
      ]
    },
    {
      "cell_type": "markdown",
      "metadata": {
        "id": "WHFBvQYBpFZs"
      },
      "source": [
        "Você pode usar também colchetes para acessar uma parte de uma lista:"
      ]
    },
    {
      "cell_type": "code",
      "execution_count": null,
      "metadata": {
        "id": "Id6fX9qspFZs",
        "outputId": "6f708dce-fb9f-45d7-9a93-d0e145645df7"
      },
      "outputs": [
        {
          "name": "stdout",
          "output_type": "stream",
          "text": [
            "[-1, 1, 2]\n",
            "[3, 4, 5, 6, 7, 8, 9]\n",
            "[1, 2, 3, 4]\n",
            "[7, 8, 9]\n",
            "[1, 2, 3, 4, 5, 6, 7, 8]\n",
            "[-1, 1, 2, 3, 4, 5, 6, 7, 8, 9]\n"
          ]
        }
      ],
      "source": [
        "first_three = x[:3]\n",
        "print(first_three)\n",
        "\n",
        "three_to_end = x[3:]\n",
        "print(three_to_end)\n",
        "\n",
        "one_to_four = x[1:5]\n",
        "print(one_to_four)\n",
        "\n",
        "last_three = x[-3:]\n",
        "print(last_three)\n",
        "\n",
        "without_first_and_last = x[1:-1]\n",
        "print(without_first_and_last)\n",
        "\n",
        "copy_of_x = x[:]\n",
        "print(copy_of_x)"
      ]
    },
    {
      "cell_type": "markdown",
      "source": [
        "Aqui temos uma outra forma ao usar o slice numa lista"
      ],
      "metadata": {
        "id": "Z5dUWWBOzgFX"
      }
    },
    {
      "cell_type": "code",
      "source": [
        "x[:3] = 'b'\n",
        "print(x)\n",
        "x[:int(len(x)/2)] = 'a'\n",
        "print(x)"
      ],
      "metadata": {
        "colab": {
          "base_uri": "https://localhost:8080/"
        },
        "id": "uLMyidwpzlbN",
        "outputId": "a9a1d693-377b-4606-9d0c-7e10ed1ec08c"
      },
      "execution_count": null,
      "outputs": [
        {
          "output_type": "stream",
          "name": "stdout",
          "text": [
            "['b']\n",
            "['a', 'b']\n"
          ]
        }
      ]
    },
    {
      "cell_type": "markdown",
      "metadata": {
        "id": "Nn_o3r4kpFZt"
      },
      "source": [
        "Python tem um operador `in` para checar se um item pertence a uma lista:"
      ]
    },
    {
      "cell_type": "code",
      "execution_count": null,
      "metadata": {
        "id": "r69ULZvWpFZv",
        "outputId": "2c75564b-79c1-4848-87f4-b548ed20c824"
      },
      "outputs": [
        {
          "name": "stdout",
          "output_type": "stream",
          "text": [
            "True\n",
            "False\n"
          ]
        }
      ],
      "source": [
        "print(1 in [1, 2, 3])\n",
        "\n",
        "print(0 in [1, 2, 3])\n"
      ]
    },
    {
      "cell_type": "markdown",
      "metadata": {
        "id": "zmcpLwoIpFZv"
      },
      "source": [
        "Esta verificação envolve examinar os elementos da lista um de cada vez, o que significa que você provavelmente não deve usá-lo, a menos que você saiba que sua lista é bastante pequena (ou, a menos que você não se preocupe quanto tempo esse processo demora).\n",
        "\n",
        "É fácil concatenar listas em conjunto:"
      ]
    },
    {
      "cell_type": "code",
      "execution_count": null,
      "metadata": {
        "id": "Qa6krzb6pFZw",
        "outputId": "2a8ec689-dcc4-4534-efb7-08e972f10688"
      },
      "outputs": [
        {
          "name": "stdout",
          "output_type": "stream",
          "text": [
            "[1, 2, 3, 4, 5, 6]\n"
          ]
        }
      ],
      "source": [
        "x = [1, 2, 3]\n",
        "x.extend([4, 5, 6])\n",
        "print(x)"
      ]
    },
    {
      "cell_type": "markdown",
      "metadata": {
        "id": "5bMVbGGxpFZw"
      },
      "source": [
        "Se você não quer modificar `x`, você pode usar o operador `+` para fazer adição de listas:"
      ]
    },
    {
      "cell_type": "code",
      "execution_count": null,
      "metadata": {
        "id": "NCDuskSIpFZx",
        "outputId": "7e02ee9c-b1ce-4144-c6d4-59d55873dbf2"
      },
      "outputs": [
        {
          "name": "stdout",
          "output_type": "stream",
          "text": [
            "[1, 2, 3, 4, 5, 6]\n"
          ]
        }
      ],
      "source": [
        "x = [1, 2, 3]\n",
        "y = x + [4, 5, 6]\n",
        "print(y)"
      ]
    },
    {
      "cell_type": "markdown",
      "metadata": {
        "id": "_SLFUEelpFZy"
      },
      "source": [
        "Com muita frequência iremos adicionar a uma lista um item de cada vez:"
      ]
    },
    {
      "cell_type": "code",
      "execution_count": null,
      "metadata": {
        "id": "pQph4UR7pFZy",
        "outputId": "42202a22-ea70-4c8e-c2e4-d1af86c85b7d"
      },
      "outputs": [
        {
          "name": "stdout",
          "output_type": "stream",
          "text": [
            "[1, 2, 3, 0]\n"
          ]
        }
      ],
      "source": [
        "x = [1, 2, 3]\n",
        "x.append(0)\n",
        "print(x)"
      ]
    },
    {
      "cell_type": "markdown",
      "metadata": {
        "id": "RgFucGYEpFZz"
      },
      "source": [
        "Muitas vezes é conveniente descompactar (*unpack*) listas se você sabe quantos elementos elas contêm:"
      ]
    },
    {
      "cell_type": "code",
      "execution_count": null,
      "metadata": {
        "id": "-iqrkYzVpFZz",
        "outputId": "70a1219a-f008-414d-ec0c-31c10733144a"
      },
      "outputs": [
        {
          "name": "stdout",
          "output_type": "stream",
          "text": [
            "1 2\n"
          ]
        }
      ],
      "source": [
        "x, y = [1, 2]\n",
        "print(x,y)"
      ]
    },
    {
      "cell_type": "markdown",
      "metadata": {
        "id": "1N2JfxR6pFZ0"
      },
      "source": [
        "embora você obtenha um `ValueError` se você não tiver o mesmo número de elementos em ambos os lados.\n",
        "\n",
        "É comum utilizar um sublinhado para um valor que você vai jogar fora:"
      ]
    },
    {
      "cell_type": "code",
      "execution_count": null,
      "metadata": {
        "id": "LCEv7doapFZ0",
        "outputId": "a38f3e83-2757-417d-f00f-fd02a169f9a1"
      },
      "outputs": [
        {
          "name": "stdout",
          "output_type": "stream",
          "text": [
            "2\n"
          ]
        }
      ],
      "source": [
        "_, y, _ = [1, 2, 3]\n",
        "print(y)"
      ]
    },
    {
      "cell_type": "markdown",
      "metadata": {
        "id": "gPQ3QmFZpFZ0"
      },
      "source": [
        "## Tuplas\n",
        "\n",
        "Os tuplas são primos imutáveis das listas. Praticamente tudo o que você pode fazer para uma lista que não envolve modificá-la, você pode fazer para uma tupla. Você especifica uma tupla usando parênteses (ou nada) em vez de colchetes:"
      ]
    },
    {
      "cell_type": "code",
      "execution_count": null,
      "metadata": {
        "id": "fNaSSecopFZ1",
        "outputId": "7a8366ef-0460-4746-dc2a-d45f44d680f2"
      },
      "outputs": [
        {
          "name": "stdout",
          "output_type": "stream",
          "text": [
            "[1, 3]\n",
            "(1, 2) (3, 4)\n",
            "cannot modify a tuple\n"
          ]
        }
      ],
      "source": [
        "my_list = [1, 2]\n",
        "my_list[1] = 3\n",
        "print(my_list)\n",
        "\n",
        "my_tuple = (1, 2)\n",
        "other_tuple = 3, 4\n",
        "print(my_tuple, other_tuple)\n",
        "\n",
        "try:\n",
        "    my_tuple[1] = 3\n",
        "except TypeError:\n",
        "    print(\"cannot modify a tuple\")"
      ]
    },
    {
      "cell_type": "markdown",
      "metadata": {
        "id": "UDi9jM7ppFZ2"
      },
      "source": [
        "Tuplas são convenientes para retornar mais de uma valor em uma função:"
      ]
    },
    {
      "cell_type": "code",
      "execution_count": null,
      "metadata": {
        "id": "sPa0LyMapFZ2",
        "outputId": "11332f0b-1d01-4390-f16b-b1b2a9dda271"
      },
      "outputs": [
        {
          "name": "stdout",
          "output_type": "stream",
          "text": [
            "(5, 6)\n",
            "15 50\n"
          ]
        }
      ],
      "source": [
        "def sum_and_product(x, y):\n",
        "    return (x + y),(x * y)\n",
        "\n",
        "sp = sum_and_product(2, 3)\n",
        "print(sp)\n",
        "\n",
        "s, p = sum_and_product(5, 10) # s is 15, p is 50\n",
        "print(s,p)"
      ]
    },
    {
      "cell_type": "markdown",
      "metadata": {
        "id": "izJmwhj_pFZ3"
      },
      "source": [
        "Tuplas (e listas) podem também ser usadas para atribuições múltiplas:"
      ]
    },
    {
      "cell_type": "code",
      "execution_count": null,
      "metadata": {
        "id": "GKPpyVTapFZ3",
        "outputId": "95b441f0-f6c5-493d-c050-e17f5c7a83e3"
      },
      "outputs": [
        {
          "name": "stdout",
          "output_type": "stream",
          "text": [
            "1 2\n",
            "2 1\n"
          ]
        }
      ],
      "source": [
        "x, y = 1, 2\n",
        "print(x,y)\n",
        "\n",
        "x, y = y, x #modo Pythônico de trocar variáveis\n",
        "print(x,y)"
      ]
    },
    {
      "cell_type": "markdown",
      "metadata": {
        "id": "7MROTT-kpFZ3"
      },
      "source": [
        "## Dicionários\n",
        "\n",
        "Outra estrutura de dados fundamental é um dicionário, que associa valores com chaves e permite recuperar rapidamente o valor correspondente a uma determinada chave:"
      ]
    },
    {
      "cell_type": "code",
      "execution_count": null,
      "metadata": {
        "id": "PxkzJ0-3pFZ4"
      },
      "outputs": [],
      "source": [
        "empty_dict = {}                           #Pythônico\n",
        "empty_dict2 = dict()                      #não tão Pythônico\n",
        "grades = { \"Joel\" : 80, \"Tim\" : 95 }      #sintaxe de um dicionário"
      ]
    },
    {
      "cell_type": "markdown",
      "metadata": {
        "id": "0t6_oVVGpFZ4"
      },
      "source": [
        "Você pode acessar um valor através de sua chave:"
      ]
    },
    {
      "cell_type": "code",
      "execution_count": null,
      "metadata": {
        "id": "k3bcplwapFZ4",
        "outputId": "5e8d10e4-da7f-4552-8988-3b5ffaf81b0f"
      },
      "outputs": [
        {
          "name": "stdout",
          "output_type": "stream",
          "text": [
            "80\n"
          ]
        }
      ],
      "source": [
        "joels_grade = grades[\"Joel\"]\n",
        "print(joels_grade)"
      ]
    },
    {
      "cell_type": "markdown",
      "metadata": {
        "id": "vjJrv8BSpFZ5"
      },
      "source": [
        "Mas você receberá um `KeyError` se você procurar uma uma chave que não existe no dicionário:"
      ]
    },
    {
      "cell_type": "code",
      "execution_count": null,
      "metadata": {
        "id": "a4AUF2oDpFZ5",
        "outputId": "20669927-65ab-4db2-f538-af2b62bdf71e"
      },
      "outputs": [
        {
          "name": "stdout",
          "output_type": "stream",
          "text": [
            "no grade for Kate!\n"
          ]
        }
      ],
      "source": [
        "try:\n",
        "    kates_grade = grades[\"Kate\"]\n",
        "except KeyError:\n",
        "    print(\"no grade for Kate!\")"
      ]
    },
    {
      "cell_type": "code",
      "execution_count": null,
      "metadata": {
        "id": "z5GCcyK6pFZ5"
      },
      "outputs": [],
      "source": [
        "grades[\"Kate\"] = 0"
      ]
    },
    {
      "cell_type": "markdown",
      "metadata": {
        "id": "KIzWcwhTpFZ6"
      },
      "source": [
        "Você pode verificar a existência de uma chave usando o operador `in`"
      ]
    },
    {
      "cell_type": "code",
      "execution_count": null,
      "metadata": {
        "id": "CKRP2tlopFZ6",
        "outputId": "1fa4143d-d19a-4d01-d2ba-c459bb59d9af"
      },
      "outputs": [
        {
          "name": "stdout",
          "output_type": "stream",
          "text": [
            "True\n",
            "False\n"
          ]
        }
      ],
      "source": [
        "joel_has_grade = \"Joel\" in grades\n",
        "print(joel_has_grade)\n",
        "kate_has_grade = \"Kate\" in grades\n",
        "print(kate_has_grade)"
      ]
    },
    {
      "cell_type": "markdown",
      "metadata": {
        "id": "7FrAsl5PpFZ6"
      },
      "source": [
        "Os dicionários têm um método `get` que retorna um valor padrão (em vez de lançar uma exceção) quando você procura uma chave que não está no dicionário:"
      ]
    },
    {
      "cell_type": "code",
      "execution_count": null,
      "metadata": {
        "scrolled": true,
        "id": "Q169QN8apFZ7",
        "outputId": "35471c19-0914-42d5-b25d-d6cfd7a5c0ad"
      },
      "outputs": [
        {
          "name": "stdout",
          "output_type": "stream",
          "text": [
            "80\n",
            "0\n",
            "None\n"
          ]
        }
      ],
      "source": [
        "joels_grade = grades.get(\"Joel\", 0)\n",
        "print(joels_grade)\n",
        "\n",
        "kates_grade = grades.get(\"Kate\", 0)\n",
        "print(kates_grade)\n",
        "\n",
        "no_ones_grade = grades.get(\"No One\")\n",
        "print(no_ones_grade)"
      ]
    },
    {
      "cell_type": "code",
      "execution_count": null,
      "metadata": {
        "scrolled": true,
        "id": "lVA57u4IpFZ7",
        "outputId": "18f7f6a2-8da1-4a24-b198-89cc0da7e7a4"
      },
      "outputs": [
        {
          "data": {
            "text/plain": [
              "{'Joel': 80, 'Kate': 0, 'Tim': 99}"
            ]
          },
          "execution_count": 79,
          "metadata": {},
          "output_type": "execute_result"
        }
      ],
      "source": [
        "grades"
      ]
    },
    {
      "cell_type": "code",
      "execution_count": null,
      "metadata": {
        "id": "A2XYD3vopFZ8",
        "outputId": "979e0b14-0f0b-4e3b-be45-c1f946ff38bd"
      },
      "outputs": [
        {
          "data": {
            "text/plain": [
              "dict_keys(['Joel', 'Tim', 'Kate'])"
            ]
          },
          "execution_count": 82,
          "metadata": {},
          "output_type": "execute_result"
        }
      ],
      "source": [
        "grades.keys()"
      ]
    },
    {
      "cell_type": "code",
      "execution_count": null,
      "metadata": {
        "id": "AVZ2TZO9pFZ8",
        "outputId": "3fae6b54-21a2-408b-9bd1-5a62b876d254"
      },
      "outputs": [
        {
          "name": "stdout",
          "output_type": "stream",
          "text": [
            "0 99\n"
          ]
        }
      ],
      "source": [
        "gradeKate, gradeTim = (grades[\"Kate\"], grades[\"Tim\"])\n",
        "print(gradeKate, gradeTim)"
      ]
    },
    {
      "cell_type": "markdown",
      "metadata": {
        "id": "tjkpozvipFZ9"
      },
      "source": [
        "Você atribui pares valor-chave usando colchetes:"
      ]
    },
    {
      "cell_type": "code",
      "execution_count": null,
      "metadata": {
        "id": "ch82OWiKpFZ_",
        "outputId": "e1fc3a41-5ac1-477a-f2a1-3951ee247dff"
      },
      "outputs": [
        {
          "name": "stdout",
          "output_type": "stream",
          "text": [
            "{'Joel': 80, 'Tim': 95}\n",
            "3 {'Joel': 80, 'Tim': 99, 'Kate': 100}\n"
          ]
        }
      ],
      "source": [
        "print(grades)\n",
        "\n",
        "grades[\"Tim\"] = 99                #atualiza a nota do Tim\n",
        "grades[\"Kate\"] = 100\n",
        "\n",
        "num_students = len(grades)\n",
        "print(num_students, grades)"
      ]
    },
    {
      "cell_type": "markdown",
      "metadata": {
        "id": "sQFu6B8spFaA"
      },
      "source": [
        "Nos usaremos frequentemente dicionários como uma forma simples de representar dados estruturados:"
      ]
    },
    {
      "cell_type": "code",
      "execution_count": null,
      "metadata": {
        "id": "8wvIpf7GpFaC"
      },
      "outputs": [],
      "source": [
        "tweet = {\n",
        "\"user\" : \"joelgrus\",\n",
        "\"text\" : \"Data Science is Awesome\",\n",
        "\"retweet_count\" : 100,\n",
        "\"hashtags\" : [\"#data\", \"#science\", \"#datascience\", \"#awesome\", \"#yolo\"]\n",
        "}"
      ]
    },
    {
      "cell_type": "markdown",
      "metadata": {
        "id": "bIS5ahvypFaD"
      },
      "source": [
        "Ao invés de procurar por chaves específicas, podemos acessar todas elas:"
      ]
    },
    {
      "cell_type": "code",
      "execution_count": null,
      "metadata": {
        "id": "iMjbtdp1pFaE",
        "outputId": "4d887632-90a3-4271-80f9-5b108223b160"
      },
      "outputs": [
        {
          "name": "stdout",
          "output_type": "stream",
          "text": [
            "dict_keys(['user', 'text', 'retweet_count', 'hashtags'])\n",
            "-\n",
            "dict_values(['joelgrus', 'Data Science is Awesome', 100, ['#data', '#science', '#datascience', '#awesome', '#yolo']])\n",
            "-\n",
            "dict_items([('user', 'joelgrus'), ('text', 'Data Science is Awesome'), ('retweet_count', 100), ('hashtags', ['#data', '#science', '#datascience', '#awesome', '#yolo'])])\n",
            "-\n",
            "True\n",
            "True\n",
            "True\n"
          ]
        }
      ],
      "source": [
        "tweet_keys = tweet.keys()            #lista das chaves         \n",
        "print(tweet_keys)\n",
        "print('-')\n",
        "\n",
        "tweet_values = tweet.values()        #lista dos valores\n",
        "print(tweet_values)\n",
        "print('-')\n",
        "\n",
        "tweet_items = tweet.items() #lista das tuplas (chave, valor)\n",
        "print(tweet_items)\n",
        "print('-')\n",
        "\n",
        "print(\"user\" in tweet_keys) #Lento, in sobre uma list\n",
        "print(\"user\" in tweet)      #Mais pythônico (rápido), in sobre um dict\n",
        "print(\"joelgrus\" in tweet_values)"
      ]
    },
    {
      "cell_type": "markdown",
      "metadata": {
        "id": "FnaKCevhpFaF"
      },
      "source": [
        "As chaves do dicionário devem ser imutáveis; em particular, você não pode usar listas como chaves. Se você precisar de uma chave de várias partes, você deve usar uma tupla ou descobrir uma maneira de transformar a chave em uma string."
      ]
    },
    {
      "cell_type": "markdown",
      "metadata": {
        "id": "rzoQLXTFpFaF"
      },
      "source": [
        "### defaultdict\n",
        "\n",
        "Imagine que você está tentando contar as palavras em um documento. Uma abordagem óbvia é criar um dicionário na qual as chaves são palavras e os valores são contagens. À medida que você verifica cada palavra, você pode incrementar sua contagem se já estiver no dicionário e adicioná-la ao dicionário caso ela não esteja nele:"
      ]
    },
    {
      "cell_type": "code",
      "execution_count": null,
      "metadata": {
        "id": "a2hFe8MzpFaG",
        "outputId": "45643a9a-3339-4948-b604-2d5a387037cb"
      },
      "outputs": [
        {
          "name": "stdout",
          "output_type": "stream",
          "text": [
            "{'The': 3, 'rose': 2, 'is': 1, 'a': 6, 'rose,': 2, 'And': 2, 'was': 1, 'always': 2, 'rose.': 3, 'But': 2, 'the': 3, 'theory': 1, 'now': 1, 'goes': 1, 'That': 1, 'apple’s': 1, 'pear': 1, 'is,': 1, 'and': 1, 'so’s': 1, 'plum,': 1, 'I': 1, 'suppose.': 1, 'dear': 1, 'only': 1, 'knows': 1, 'What': 1, 'will': 1, 'next': 1, 'prove': 1, 'You,': 1, 'of': 1, 'course,': 1, 'are': 1, '–': 1, 'were': 1}\n"
          ]
        }
      ],
      "source": [
        "poem = \"\"\"The rose is a rose,\n",
        "And was always a rose.\n",
        "But the theory now goes\n",
        "That the apple’s a rose,\n",
        "And the pear is, and so’s\n",
        "The plum, I suppose.\n",
        "The dear only knows\n",
        "What will next prove a rose.\n",
        "You, of course, are a rose –\n",
        "But were always a rose.\"\"\"\n",
        "\n",
        "document = poem.split()   #transforma a string em uma list de palavras\n",
        "word_counts = {}\n",
        "for word in document:    \n",
        "    if word in word_counts:\n",
        "        word_counts[word] += 1\n",
        "    else:\n",
        "        word_counts[word] = 1\n",
        "\n",
        "print(word_counts)"
      ]
    },
    {
      "cell_type": "markdown",
      "metadata": {
        "id": "N66KEen0pFaH"
      },
      "source": [
        "Você também pode usar a abordagem \"perdão é melhor do que permissão\" e apenas lidar com a exceção quando houver uma chave que não está no dicionário:"
      ]
    },
    {
      "cell_type": "code",
      "execution_count": null,
      "metadata": {
        "id": "NIxNxR3jpFaH",
        "outputId": "1ad40e9d-56f9-47f3-8933-117b46074ba1"
      },
      "outputs": [
        {
          "name": "stdout",
          "output_type": "stream",
          "text": [
            "{'The': 3, 'rose': 2, 'is': 1, 'a': 6, 'rose,': 2, 'And': 2, 'was': 1, 'always': 2, 'rose.': 3, 'But': 2, 'the': 3, 'theory': 1, 'now': 1, 'goes': 1, 'That': 1, 'apple’s': 1, 'pear': 1, 'is,': 1, 'and': 1, 'so’s': 1, 'plum,': 1, 'I': 1, 'suppose.': 1, 'dear': 1, 'only': 1, 'knows': 1, 'What': 1, 'will': 1, 'next': 1, 'prove': 1, 'You,': 1, 'of': 1, 'course,': 1, 'are': 1, '–': 1, 'were': 1}\n"
          ]
        }
      ],
      "source": [
        "word_counts = {}\n",
        "for word in document:\n",
        "    try:\n",
        "        word_counts[word] += 1\n",
        "    except KeyError:\n",
        "        word_counts[word] = 1\n",
        "print(word_counts)        "
      ]
    },
    {
      "cell_type": "raw",
      "metadata": {
        "id": "PjEIlbszpFaI"
      },
      "source": [
        "Uma terceira abordagem é usar o `get`, que se comporta graciosamente quando há chaves faltantes:"
      ]
    },
    {
      "cell_type": "code",
      "execution_count": null,
      "metadata": {
        "id": "_XwH3PwepFaI",
        "outputId": "4e6be00f-3df2-4b1a-8069-bfd1bf31584e"
      },
      "outputs": [
        {
          "name": "stdout",
          "output_type": "stream",
          "text": [
            "{'The': 3, 'rose': 2, 'is': 1, 'a': 6, 'rose,': 2, 'And': 2, 'was': 1, 'always': 2, 'rose.': 3, 'But': 2, 'the': 3, 'theory': 1, 'now': 1, 'goes': 1, 'That': 1, 'apple’s': 1, 'pear': 1, 'is,': 1, 'and': 1, 'so’s': 1, 'plum,': 1, 'I': 1, 'suppose.': 1, 'dear': 1, 'only': 1, 'knows': 1, 'What': 1, 'will': 1, 'next': 1, 'prove': 1, 'You,': 1, 'of': 1, 'course,': 1, 'are': 1, '–': 1, 'were': 1}\n"
          ]
        }
      ],
      "source": [
        "word_counts = {}\n",
        "for word in document:\n",
        "    previous_count = word_counts.get(word, 0)\n",
        "    word_counts[word] = previous_count + 1\n",
        "print(word_counts)"
      ]
    },
    {
      "cell_type": "markdown",
      "metadata": {
        "id": "4Xye91xVpFaJ"
      },
      "source": [
        "Cada uma das três abordagens acima são um pouco pesadas, e é por isso que o `defaultdict` é útil. Um `defaultdict` é como um dicionário regular, exceto que, quando você tenta procurar uma chave que não existe, ele primeiro adiciona um valor para ela usando uma função sem argumentos (*zero-argument function*) que você provê ao criá-lo. Para usar `defaultdict`s, você deve importá-los do módulo `collections`:"
      ]
    },
    {
      "cell_type": "code",
      "execution_count": null,
      "metadata": {
        "id": "6mVjl6EDpFaJ",
        "outputId": "004660db-09ad-4c03-b28e-9e414f5ed865"
      },
      "outputs": [
        {
          "name": "stdout",
          "output_type": "stream",
          "text": [
            "0\n",
            "defaultdict(<class 'int'>, {'The': 3, 'rose': 2, 'is': 1, 'a': 6, 'rose,': 2, 'And': 2, 'was': 1, 'always': 2, 'rose.': 3, 'But': 2, 'the': 3, 'theory': 1, 'now': 1, 'goes': 1, 'That': 1, 'apple’s': 1, 'pear': 1, 'is,': 1, 'and': 1, 'so’s': 1, 'plum,': 1, 'I': 1, 'suppose.': 1, 'dear': 1, 'only': 1, 'knows': 1, 'What': 1, 'will': 1, 'next': 1, 'prove': 1, 'You,': 1, 'of': 1, 'course,': 1, 'are': 1, '–': 1, 'were': 1})\n"
          ]
        }
      ],
      "source": [
        "from collections import defaultdict\n",
        "\n",
        "word_counts = defaultdict(int)         # int() não tem argumentos\n",
        "print(int())                           # int() retorna 0\n",
        "\n",
        "for word in document:\n",
        "    word_counts[word] += 1\n",
        "\n",
        "print(word_counts)"
      ]
    },
    {
      "cell_type": "markdown",
      "metadata": {
        "id": "2WvwbvVRpFaK"
      },
      "source": [
        "Eles também podem ser úteis com listas, dicionários ou até mesmo com suas próprias funções:"
      ]
    },
    {
      "cell_type": "code",
      "execution_count": null,
      "metadata": {
        "id": "fruZ-kGRpFaK",
        "outputId": "e07ff3d4-36f1-490d-c2de-160cf59b668e"
      },
      "outputs": [
        {
          "name": "stdout",
          "output_type": "stream",
          "text": [
            "defaultdict(<class 'list'>, {2: [1]})\n",
            "defaultdict(<class 'dict'>, {'Joel': {'City': 'Seattle'}})\n",
            "[0, 0]\n",
            "defaultdict(<function <lambda> at 0x0000025F91422378>, {1: [0, 0], 2: [0, 10], 3: [0, 0, 10]})\n"
          ]
        }
      ],
      "source": [
        "dd_list = defaultdict(list)      # list() retorna uma lista vazia\n",
        "dd_list[2].append(1)             \n",
        "print(dd_list)\n",
        "\n",
        "dd_dict = defaultdict(dict)      # dict() retorna um dict vazio\n",
        "dd_dict[\"Joel\"][\"City\"] = \"Seattle\" \n",
        "print(dd_dict)\n",
        "\n",
        "dd_pair = defaultdict(lambda: [0, 0])\n",
        "print(dd_pair[1])\n",
        "dd_pair[2][1] = 10\n",
        "dd_pair[3].append(10)\n",
        "\n",
        "\n",
        "print(dd_pair)"
      ]
    },
    {
      "cell_type": "markdown",
      "metadata": {
        "id": "2Vk3Y12gpFaL"
      },
      "source": [
        "Estes serão úteis quando estivermos usando dicionários para \"colecionar\" resultados por alguma chave e não queremos verificar a todo momento se a chave existe."
      ]
    },
    {
      "cell_type": "markdown",
      "metadata": {
        "id": "So8gFZPxpFaL"
      },
      "source": [
        "### Counters\n",
        "\n",
        "Um `Counter` transforma uma sequência de valores em um objeto tipo `defaultdict(int)`, mapeando chaves em contadores. Iremos usá-los majoritariamente para criar histogramas:"
      ]
    },
    {
      "cell_type": "code",
      "execution_count": null,
      "metadata": {
        "id": "wlnjvb_SpFaM",
        "outputId": "e052d8d2-9507-4622-aed4-b63b4816a7a7"
      },
      "outputs": [
        {
          "name": "stdout",
          "output_type": "stream",
          "text": [
            "Counter({0: 4, 1: 2, 2: 1})\n"
          ]
        }
      ],
      "source": [
        "from collections import Counter\n",
        "c = Counter([0, 1, 2, 0, 0, 0, 1])\n",
        "print(c)"
      ]
    },
    {
      "cell_type": "markdown",
      "metadata": {
        "id": "NH-9m_9jpFaN"
      },
      "source": [
        "Isso nos dá uma forma muito simples e *pythônica* de resolver o nosso problema de contagem de palavras:"
      ]
    },
    {
      "cell_type": "code",
      "execution_count": null,
      "metadata": {
        "id": "_56pRKhKpFaN",
        "outputId": "f4af3271-9264-4a60-97e8-2326bc372de4"
      },
      "outputs": [
        {
          "name": "stdout",
          "output_type": "stream",
          "text": [
            "Counter({'a': 6, 'The': 3, 'rose.': 3, 'the': 3, 'rose': 2, 'rose,': 2, 'And': 2, 'always': 2, 'But': 2, 'is': 1, 'was': 1, 'theory': 1, 'now': 1, 'goes': 1, 'That': 1, 'apple’s': 1, 'pear': 1, 'is,': 1, 'and': 1, 'so’s': 1, 'plum,': 1, 'I': 1, 'suppose.': 1, 'dear': 1, 'only': 1, 'knows': 1, 'What': 1, 'will': 1, 'next': 1, 'prove': 1, 'You,': 1, 'of': 1, 'course,': 1, 'are': 1, '–': 1, 'were': 1})\n"
          ]
        }
      ],
      "source": [
        "word_counts = Counter(document)\n",
        "print(word_counts)"
      ]
    },
    {
      "cell_type": "markdown",
      "metadata": {
        "id": "B6tdtgxEpFaP"
      },
      "source": [
        "Uma instância de `Counter` tem um método `most_common` que é útil muitas vezes:"
      ]
    },
    {
      "cell_type": "code",
      "execution_count": null,
      "metadata": {
        "id": "YE7vgZlTpFaQ",
        "outputId": "3ddc16e3-84c3-4f40-bd62-935086905313"
      },
      "outputs": [
        {
          "name": "stdout",
          "output_type": "stream",
          "text": [
            "a 6\n",
            "The 3\n",
            "rose. 3\n",
            "the 3\n",
            "rose 2\n"
          ]
        }
      ],
      "source": [
        "#imprime as 5 palavras mais frequentes da contagem\n",
        "for word, count in word_counts.most_common(5):\n",
        "    print (word, count)"
      ]
    },
    {
      "cell_type": "markdown",
      "metadata": {
        "id": "YmZReEyKpFaT"
      },
      "source": [
        "## Sets\n",
        "\n",
        "Outra estrutura de dados é o `set`, ou conjunto, que representa uma coleção de elementos distintos:"
      ]
    },
    {
      "cell_type": "code",
      "execution_count": null,
      "metadata": {
        "id": "Cwxe_wuQpFaU",
        "outputId": "225a8564-da8c-47fc-c37b-91c678f74b13"
      },
      "outputs": [
        {
          "name": "stdout",
          "output_type": "stream",
          "text": [
            "tamanho de s:  2\n",
            "True\n",
            "False\n"
          ]
        }
      ],
      "source": [
        "s = set()\n",
        "s.add(1)\n",
        "s.add(2)\n",
        "s.add(1)\n",
        "print(\"tamanho de s: \", len(s))\n",
        "print(2 in s)\n",
        "print(3 in s)"
      ]
    },
    {
      "cell_type": "markdown",
      "metadata": {
        "id": "Xyn_C02JpFaV"
      },
      "source": [
        "Usaremos conjuntos por dois motivos principais. O primeiro é que, em conjuntos, `in` é uma operação muito rápida. Se tivermos uma grande coleção de itens que queremos usar para um teste de associação, um conjunto é mais apropriado do que uma lista:"
      ]
    },
    {
      "cell_type": "code",
      "execution_count": null,
      "metadata": {
        "id": "qYeCeSvfpFaW",
        "outputId": "01202203-5717-47d9-dfd5-262f9e393625"
      },
      "outputs": [
        {
          "name": "stdout",
          "output_type": "stream",
          "text": [
            "False\n",
            "False\n",
            "True\n",
            "True\n"
          ]
        }
      ],
      "source": [
        "stopwords_list = [\"a\",\"an\",\"at\"] + document + [\"yet\", \"you\"]\n",
        "\n",
        "print(\"zip\" in stopwords_list)  # Tem que verificar cada elemento\n",
        "\n",
        "stopwords_set = set(stopwords_list)\n",
        "\n",
        "print(\"zip\" in stopwords_set) # Muito rápido de verificar\n",
        "print(\"yet\" in stopwords_set) # Muito rápido de verificar\n",
        "print(\"rose\" in stopwords_set) # Muito rápido de verificar\n"
      ]
    },
    {
      "cell_type": "markdown",
      "metadata": {
        "id": "nUDVbEXCpFaW"
      },
      "source": [
        "A segunda razão é para encontrar os itens distintos em uma coleção:"
      ]
    },
    {
      "cell_type": "code",
      "execution_count": null,
      "metadata": {
        "id": "MR9-Cs9lpFaX",
        "outputId": "efd4f96b-8d21-40e4-c46c-0e629a1c173d"
      },
      "outputs": [
        {
          "name": "stdout",
          "output_type": "stream",
          "text": [
            "[1, 2, 3] 3 itens distintos.\n"
          ]
        }
      ],
      "source": [
        "item_list = [1, 2, 3, 1, 2, 3]\n",
        "num_items = len(item_list)\n",
        "item_set = set(item_list)\n",
        "num_distinct_items = len(item_set)\n",
        "distinct_item_list = list(item_set)\n",
        "print(distinct_item_list, num_distinct_items, 'itens distintos.')"
      ]
    },
    {
      "cell_type": "markdown",
      "metadata": {
        "id": "OCiROI8ppFaX"
      },
      "source": [
        "## Fluxo de controle\n",
        "\n",
        "Como na maioria das liguagens de programação, você pode executar uma ação condicionalmente usando o operador `if`:"
      ]
    },
    {
      "cell_type": "code",
      "execution_count": null,
      "metadata": {
        "id": "WHKRBBWFpFaY",
        "outputId": "596241fa-719d-45e8-f578-74366f681a50"
      },
      "outputs": [
        {
          "name": "stdout",
          "output_type": "stream",
          "text": [
            "lista contém números repetidos\n"
          ]
        }
      ],
      "source": [
        "if num_distinct_items == 1:\n",
        "    message = \"lista contém apenas um número distinto\"\n",
        "elif num_distinct_items < num_items:\n",
        "    message = \"lista contém números repetidos\"\n",
        "else:\n",
        "    message = \"lista não contém nenhum número repetido\"\n",
        "print(message)"
      ]
    },
    {
      "cell_type": "markdown",
      "metadata": {
        "id": "mIbqLlT9pFaZ"
      },
      "source": [
        "Assim como na linguagem C, você pode usar também um operador condicional ternário, que faremos ocasionalmente neste curso:"
      ]
    },
    {
      "cell_type": "code",
      "execution_count": null,
      "metadata": {
        "id": "JzrJtF2qpFaZ",
        "outputId": "92a37730-9710-48fb-8d95-4458b7fff4a7"
      },
      "outputs": [
        {
          "name": "stdout",
          "output_type": "stream",
          "text": [
            "par\n"
          ]
        }
      ],
      "source": [
        "paridade = \"par\" if x % 2 == 0 else \"ímpar\"\n",
        "print(paridade)"
      ]
    },
    {
      "cell_type": "markdown",
      "metadata": {
        "id": "1k97a1LopFaa"
      },
      "source": [
        "Python tem um loop `while`:"
      ]
    },
    {
      "cell_type": "code",
      "execution_count": null,
      "metadata": {
        "id": "htgR6IAqpFaa",
        "outputId": "0f6a09f0-83a7-4f56-8ecb-49e582f71267"
      },
      "outputs": [
        {
          "name": "stdout",
          "output_type": "stream",
          "text": [
            "0 is less than 5\n",
            "1 is less than 5\n",
            "2 is less than 5\n",
            "3 is less than 5\n",
            "4 is less than 5\n"
          ]
        }
      ],
      "source": [
        "x = 0\n",
        "while x < 5:\n",
        "    print(x, \"is less than 5\")\n",
        "    x += 1"
      ]
    },
    {
      "cell_type": "markdown",
      "metadata": {
        "id": "_MeZ4PdSpFab"
      },
      "source": [
        "embora a gente vá usar `for` e `in` mais vezes:"
      ]
    },
    {
      "cell_type": "code",
      "execution_count": null,
      "metadata": {
        "id": "8zstQYDypFab",
        "outputId": "c802b74c-ed06-43d5-caaa-ac1fd737fb78"
      },
      "outputs": [
        {
          "name": "stdout",
          "output_type": "stream",
          "text": [
            "0 is less than 5\n",
            "1 is less than 5\n",
            "2 is less than 5\n",
            "3 is less than 5\n",
            "4 is less than 5\n"
          ]
        }
      ],
      "source": [
        "for x in range(5):\n",
        "    print(x, \"is less than 5\")"
      ]
    },
    {
      "cell_type": "markdown",
      "metadata": {
        "id": "lJw1cRo_pFac"
      },
      "source": [
        "Se você precisa de lógicas mais complexas, você pode usar `break` e `continue`:"
      ]
    },
    {
      "cell_type": "code",
      "execution_count": null,
      "metadata": {
        "id": "Ew-S1GAUpFac",
        "outputId": "476dc377-b929-46ec-c7d6-3dd26b5323c7"
      },
      "outputs": [
        {
          "name": "stdout",
          "output_type": "stream",
          "text": [
            "0\n",
            "1\n",
            "2\n",
            "4\n"
          ]
        }
      ],
      "source": [
        "for x in range(10):\n",
        "    if x == 3:\n",
        "        continue # go immediately to the next iteration\n",
        "    if x == 5:\n",
        "        break    # quit the loop entirely\n",
        "    print(x)"
      ]
    },
    {
      "cell_type": "markdown",
      "metadata": {
        "id": "gbymxSvgpFad"
      },
      "source": [
        "## Verdadeiro ou Falso?\n",
        "\n",
        "Booleanos em Python funcionam como na maioria das outras linguagens, exceto que eles têm as primeiras letras maiúsculas:"
      ]
    },
    {
      "cell_type": "code",
      "execution_count": null,
      "metadata": {
        "id": "cbMkkz6qpFad",
        "outputId": "1b97a603-09e5-4d0e-8edc-3fd34bb040d9"
      },
      "outputs": [
        {
          "name": "stdout",
          "output_type": "stream",
          "text": [
            "True\n",
            "False\n"
          ]
        }
      ],
      "source": [
        "one_is_less_than_two = 1 < 2\n",
        "print(one_is_less_than_two)\n",
        "\n",
        "true_equals_false = True == False\n",
        "print(true_equals_false)"
      ]
    },
    {
      "cell_type": "markdown",
      "metadata": {
        "id": "MK6U-HOXpFaf"
      },
      "source": [
        "Python usa o valor `None` para indicar um valor inexistente. É similar ao `null` de outras linguagens:"
      ]
    },
    {
      "cell_type": "code",
      "execution_count": null,
      "metadata": {
        "id": "9b4BIcgJpFah",
        "outputId": "b9293851-7622-4a87-c617-26ef27cdfe1b"
      },
      "outputs": [
        {
          "name": "stdout",
          "output_type": "stream",
          "text": [
            "True\n",
            "True\n"
          ]
        }
      ],
      "source": [
        "x = None\n",
        "print(x == None)   # não é pythônico\n",
        "print(x is None)    # é pythônico"
      ]
    },
    {
      "cell_type": "markdown",
      "metadata": {
        "id": "bO1HE5N8pFah"
      },
      "source": [
        "Python deixa você usar quaqluer valor quando um `Boolean` é esperado. As seguintes expressões são todas falsas:\n",
        "\n",
        "- `False`\n",
        "- `None`\n",
        "- `[]`\n",
        "- `{}`\n",
        "- `\"\"`\n",
        "- `set()`\n",
        "- `0`\n",
        "- `0.0`\n"
      ]
    },
    {
      "cell_type": "markdown",
      "metadata": {
        "id": "Vd4HnNzzpFai"
      },
      "source": [
        "Praticamente qualquer outra expressão é tratada como verdadeira. "
      ]
    },
    {
      "cell_type": "markdown",
      "metadata": {
        "id": "sMFArv4gpFai"
      },
      "source": [
        "Isso permite que você use facilmente as expressões `if` para testar listas vazias, strings vazias, dicionários vazios, e assim por diante. Cuidado que às vezes isso pode causar erros difíceis se você não está esperando esse comportamento:"
      ]
    },
    {
      "cell_type": "code",
      "execution_count": null,
      "metadata": {
        "id": "thZQp0e8pFaj",
        "outputId": "75cc3ec7-0218-4fb3-e8f0-459db040d70f"
      },
      "outputs": [
        {
          "name": "stdout",
          "output_type": "stream",
          "text": [
            "primeiro caractere da string:  \n"
          ]
        }
      ],
      "source": [
        "def some_function_that_returns_a_string(): return \"\"\n",
        "\n",
        "s = some_function_that_returns_a_string()\n",
        "\n",
        "#acessar s[0] neste instante pode gerar uma exceção do tipo IndexError\n",
        "\n",
        "if s:\n",
        "    first_char = s[0]\n",
        "else:\n",
        "    first_char = \"\"\n",
        "    \n",
        "print(\"primeiro caractere da string: \", first_char)"
      ]
    },
    {
      "cell_type": "markdown",
      "metadata": {
        "id": "N9ZoMJRTpFak"
      },
      "source": [
        "Uma maneira simples de fazer isso é:"
      ]
    },
    {
      "cell_type": "code",
      "execution_count": null,
      "metadata": {
        "id": "d9iTkywmpFak",
        "outputId": "54f6a459-4d7c-475a-a279-a0ca0a135438"
      },
      "outputs": [
        {
          "name": "stdout",
          "output_type": "stream",
          "text": [
            "primeiro caractere da string: \n"
          ]
        }
      ],
      "source": [
        "first_char = s and s[0]\n",
        "print(\"primeiro caractere da string:\", first_char)"
      ]
    },
    {
      "cell_type": "markdown",
      "metadata": {
        "id": "Y8kglug1pFal"
      },
      "source": [
        "uma vez que o operador `and` retorna o seu segundo valor quando o primeiro é `True` e o primeiro valor quando ele é `False`. "
      ]
    },
    {
      "cell_type": "markdown",
      "metadata": {
        "id": "A6VxsGHGpFal"
      },
      "source": [
        "Da mesma forma, se `x` é um número ou um `None`, você pode usar o operador `or` para garantir que `x` seja um número::"
      ]
    },
    {
      "cell_type": "code",
      "execution_count": null,
      "metadata": {
        "id": "UEviKhyhpFam",
        "outputId": "a9ca72f8-2692-44c4-fdaf-7ab6d89834d1"
      },
      "outputs": [
        {
          "name": "stdout",
          "output_type": "stream",
          "text": [
            "1\n"
          ]
        }
      ],
      "source": [
        "from random import random\n",
        "\n",
        "def NoneOr0():\n",
        "    r = random()\n",
        "    return 1 if r < 0.5 else None\n",
        "    \n",
        "x = NoneOr0()\n",
        "safe_x = x or 0\n",
        "print(safe_x)"
      ]
    },
    {
      "cell_type": "markdown",
      "metadata": {
        "id": "WRQ3yMappFam"
      },
      "source": [
        "Python tem uma função `all`, que recebe uma lista (`list`) e retorna `True` quando todos os elementos forem verdadeiros (`True`). Há também uma função `any`, que retorna `True` quando pelo menos um elemento é verdadeiro. No all caso o interador esteja vazio é retornado True e no Any False."
      ]
    },
    {
      "cell_type": "code",
      "execution_count": null,
      "metadata": {
        "id": "jO8DFIaMpFan",
        "outputId": "7c311bce-26d6-48ee-de95-540c3b01af15",
        "colab": {
          "base_uri": "https://localhost:8080/"
        }
      },
      "outputs": [
        {
          "output_type": "stream",
          "name": "stdout",
          "text": [
            "True\n",
            "False\n",
            "True\n",
            "True\n",
            "False\n"
          ]
        }
      ],
      "source": [
        "print(all([True, 1, { 3 }]))\n",
        "\n",
        "print(all([True, 1, {}]))\n",
        "\n",
        "print(any([True, 1, {}]))\n",
        "\n",
        "print(all([]))\n",
        "\n",
        "print(any([]))"
      ]
    }
  ],
  "metadata": {
    "celltoolbar": "Slideshow",
    "kernelspec": {
      "display_name": "Python 3",
      "language": "python",
      "name": "python3"
    },
    "language_info": {
      "codemirror_mode": {
        "name": "ipython",
        "version": 3
      },
      "file_extension": ".py",
      "mimetype": "text/x-python",
      "name": "python",
      "nbconvert_exporter": "python",
      "pygments_lexer": "ipython3",
      "version": "3.6.4"
    },
    "colab": {
      "provenance": [],
      "include_colab_link": true
    }
  },
  "nbformat": 4,
  "nbformat_minor": 0
}
